{
 "cells": [
  {
   "cell_type": "code",
   "execution_count": 1,
   "metadata": {},
   "outputs": [],
   "source": [
    "import pickle\n",
    "import pandas as pd\n",
    "import numpy as np\n",
    "from sklearn.cluster import KMeans\n",
    "from sklearn.neighbors import KNeighborsClassifier\n",
    "import seaborn as sns\n",
    "import matplotlib.pyplot as plt\n",
    "%matplotlib inline"
   ]
  },
  {
   "cell_type": "code",
   "execution_count": 2,
   "metadata": {},
   "outputs": [],
   "source": [
    "model = pickle.load(open('uas_model_kmeans_61.sav', 'rb'))\n",
    "model2 = pickle.load(open('uas_model_knn.sav', 'rb'))"
   ]
  },
  {
   "cell_type": "code",
   "execution_count": 3,
   "metadata": {},
   "outputs": [],
   "source": [
    "def TanamApa(mod,x):\n",
    "    pred = mod.predict(x)\n",
    "    switcher = {\n",
    "        0: \"bayam\",\n",
    "        1: \"cabai\",\n",
    "        2: \"jambu air\",\n",
    "        3: \"kentang\",\n",
    "        4: \"stroberi\",\n",
    "    }\n",
    "    return switcher.get(pred[0])"
   ]
  },
  {
   "cell_type": "code",
   "execution_count": 4,
   "metadata": {},
   "outputs": [],
   "source": [
    "jakarta = [[20, 1816, 26.7]]\n",
    "bogor = [[265, 4086, 25.2]]\n",
    "bandung = [[768, 1838.3, 23.2]]\n",
    "bukittinggi = [[920, 2292.2, 24]]\n",
    "dieng = [[2000, 2652, 14]]\n",
    "pontianak = [[1, 3196, 27.7]]\n",
    "medan = [[20, 2263, 26.49]]\n",
    "cirebon = [[10, 2380, 27]]\n",
    "lembang = [[1500, 3140, 23.1]]\n",
    "malang = [[500, 2088, 23.7]]"
   ]
  },
  {
   "cell_type": "code",
   "execution_count": 5,
   "metadata": {},
   "outputs": [
    {
     "name": "stdout",
     "output_type": "stream",
     "text": [
      "Jakarta:  cabai cabai\n",
      "Bogor:  jambu air kentang\n",
      "Bandung:  bayam cabai\n",
      "Bukittinggi:  jambu air kentang\n",
      "Dieng:  kentang kentang\n",
      "Pontianak:  jambu air jambu air\n",
      "Medan:  jambu air jambu air\n",
      "Cirebon:  jambu air jambu air\n",
      "Lembang:  kentang kentang\n",
      "Malang:  jambu air jambu air\n"
     ]
    }
   ],
   "source": [
    "print(\"Jakarta: \", TanamApa(model,jakarta), TanamApa(model2,jakarta))\n",
    "print(\"Bogor: \", TanamApa(model,bogor), TanamApa(model2,bogor))\n",
    "print(\"Bandung: \", TanamApa(model,bandung), TanamApa(model2,bandung))\n",
    "print(\"Bukittinggi: \", TanamApa(model,bukittinggi), TanamApa(model2,bukittinggi))\n",
    "print(\"Dieng: \", TanamApa(model,dieng), TanamApa(model2,dieng))\n",
    "print(\"Pontianak: \", TanamApa(model,pontianak), TanamApa(model2,pontianak))\n",
    "print(\"Medan: \", TanamApa(model,medan), TanamApa(model2,medan))\n",
    "print(\"Cirebon: \", TanamApa(model,cirebon), TanamApa(model2,cirebon))\n",
    "print(\"Lembang: \", TanamApa(model,lembang), TanamApa(model2,lembang))\n",
    "print(\"Malang: \", TanamApa(model,malang), TanamApa(model2,malang))"
   ]
  },
  {
   "cell_type": "code",
   "execution_count": 6,
   "metadata": {},
   "outputs": [
    {
     "data": {
      "text/plain": [
       "array([3])"
      ]
     },
     "execution_count": 6,
     "metadata": {},
     "output_type": "execute_result"
    }
   ],
   "source": [
    "model2.predict([[265, 4086, 25.2]])"
   ]
  },
  {
   "cell_type": "code",
   "execution_count": null,
   "metadata": {},
   "outputs": [],
   "source": []
  }
 ],
 "metadata": {
  "kernelspec": {
   "display_name": "Python 3",
   "language": "python",
   "name": "python3"
  },
  "language_info": {
   "codemirror_mode": {
    "name": "ipython",
    "version": 3
   },
   "file_extension": ".py",
   "mimetype": "text/x-python",
   "name": "python",
   "nbconvert_exporter": "python",
   "pygments_lexer": "ipython3",
   "version": "3.7.3"
  }
 },
 "nbformat": 4,
 "nbformat_minor": 4
}
